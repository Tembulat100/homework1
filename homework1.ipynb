{
 "cells": [
  {
   "cell_type": "code",
   "execution_count": 6,
   "metadata": {},
   "outputs": [],
   "source": [
    "from random import randint\n",
    "\n",
    "def my_rvs(p, size=1):\n",
    "    _sum = 0\n",
    "    for i in range(size):\n",
    "        r = randint(1, 100)\n",
    "        if r < 100 * p:\n",
    "            _sum += 1\n",
    "    return _sum"
   ]
  },
  {
   "cell_type": "code",
   "execution_count": 8,
   "metadata": {},
   "outputs": [
    {
     "name": "stdout",
     "output_type": "stream",
     "text": [
      "31\n"
     ]
    }
   ],
   "source": [
    "print(my_rvs(0.65, size=38))"
   ]
  },
  {
   "cell_type": "code",
   "execution_count": 10,
   "metadata": {},
   "outputs": [
    {
     "name": "stdout",
     "output_type": "stream",
     "text": [
      "0.3915046875\n"
     ]
    }
   ],
   "source": [
    "def fact(n):\n",
    "    if n == 0:\n",
    "        return 1\n",
    "    return n * fact(n-1) # 5 * 4 * 3 * 2 * 1 = 120\n",
    "\n",
    "def combination(n, k):\n",
    "    if n < k:\n",
    "        return 0\n",
    "    return int(fact(n) / fact(k) / fact(n-k))\n",
    "\n",
    "def my_pmf(k, n, p):\n",
    "    return combination(n, k) * p ** k * (1 - p) ** (n - k)\n",
    "\n",
    "y = my_pmf(k=4, n=5, p=0.85)\n",
    "print(y)\n"
   ]
  },
  {
   "cell_type": "code",
   "execution_count": 14,
   "metadata": {},
   "outputs": [
    {
     "name": "stdout",
     "output_type": "stream",
     "text": [
      "0.5562946875\n"
     ]
    }
   ],
   "source": [
    "def my_cdf(k, n, p):\n",
    "    _sum = 0\n",
    "    for i in range(k + 1):\n",
    "        _sum += my_pmf(i, n, p)\n",
    "    return _sum\n",
    "y = my_cdf(k=4, n=5, p=0.85)\n",
    "print(y)\n",
    "def my_sf(k, n, p):\n",
    "    return 1 - my_cdf(k, n, p)"
   ]
  },
  {
   "cell_type": "code",
   "execution_count": 13,
   "metadata": {},
   "outputs": [
    {
     "name": "stdout",
     "output_type": "stream",
     "text": [
      "0.4437053125\n"
     ]
    }
   ],
   "source": [
    "y = my_sf(k=4, n=5, p=0.85)\n",
    "print(y)\n"
   ]
  },
  {
   "cell_type": "code",
   "execution_count": null,
   "metadata": {},
   "outputs": [],
   "source": [
    "def my_mean(s):\n",
    "    returnurn sum(s) / len(s)"
   ]
  },
  {
   "cell_type": "code",
   "execution_count": 21,
   "metadata": {},
   "outputs": [],
   "source": [
    "def my_median(s):\n",
    "    s.sort()\n",
    "    if len(s) % 2 == 0:\n",
    "        return (s[len(s) // 2] + s[len(s) // 2 - 1]) / 2\n",
    "    return s[len(s) // 2]"
   ]
  },
  {
   "cell_type": "code",
   "execution_count": 27,
   "metadata": {},
   "outputs": [
    {
     "data": {
      "text/plain": [
       "8.0"
      ]
     },
     "execution_count": 27,
     "metadata": {},
     "output_type": "execute_result"
    }
   ],
   "source": [
    "d = [8,8,6,10]\n",
    "my_median(d)"
   ]
  },
  {
   "cell_type": "code",
   "execution_count": 29,
   "metadata": {},
   "outputs": [],
   "source": [
    "def expected_value(s):\n",
    "    return my_mean(s)\n",
    "\n",
    "def variance(s):\n",
    "    E = expected_value(s)\n",
    "    _sum = 0\n",
    "    for val in s:\n",
    "        _sum += (val - E) ** 2\n",
    "    return _sum / len(s)"
   ]
  },
  {
   "cell_type": "code",
   "execution_count": null,
   "metadata": {},
   "outputs": [],
   "source": []
  }
 ],
 "metadata": {
  "kernelspec": {
   "display_name": "Python 3",
   "language": "python",
   "name": "python3"
  },
  "language_info": {
   "codemirror_mode": {
    "name": "ipython",
    "version": 3
   },
   "file_extension": ".py",
   "mimetype": "text/x-python",
   "name": "python",
   "nbconvert_exporter": "python",
   "pygments_lexer": "ipython3",
   "version": "3.7.6"
  }
 },
 "nbformat": 4,
 "nbformat_minor": 4
}
